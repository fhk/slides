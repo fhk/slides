{
 "cells": [
  {
   "cell_type": "markdown",
   "metadata": {
    "collapsed": true,
    "hideCode": false,
    "hidePrompt": false,
    "slideshow": {
     "slide_type": "slide"
    }
   },
   "source": [
    "# A New Approach to Telecommunications Network Design Automated and Data Driven\n",
    "\n",
    "![alt text](img/biarri_networks_logo_1_line_solo.jpg)\n",
    "\n",
    "<a href=\"http://biarrinetworks.com\">biarrnetworks.com</a>\n",
    "\n",
    "fabion.kauker@biarri.com"
   ]
  },
  {
   "cell_type": "markdown",
   "metadata": {
    "hideCode": false,
    "hidePrompt": false,
    "slideshow": {
     "slide_type": "slide"
    }
   },
   "source": [
    "### Background\n",
    "\n",
    "   * What is Telecommunications network design?  \n",
    "   * Is there demand for it?  \n",
    "   * What technologies are used?  \n"
   ]
  },
  {
   "cell_type": "markdown",
   "metadata": {
    "hideCode": false,
    "hidePrompt": false,
    "slideshow": {
     "slide_type": "subslide"
    }
   },
   "source": [
    "## What is Telecommunications network design?\n",
    "\n",
    "A model used to describe networking specifics is called the <a href=\"https://en.wikipedia.org/wiki/OSI_model\">Open Systems Interconnection model (OSI model)</a>.\n",
    "\n",
    "But we are interested in the physical layer. (The cables and devices that get placed on your street, house and properties owned/leased by the service provider.)\n",
    "\n",
    "Fixed line design for access networks. (Many other parts to the network including wireless front/back haul, metro and backbone)\n",
    "\n",
    "In industry this is called Outside Plant (OSP) engineering.\n"
   ]
  },
  {
   "cell_type": "markdown",
   "metadata": {
    "hideCode": false,
    "hidePrompt": false,
    "slideshow": {
     "slide_type": "subslide"
    }
   },
   "source": [
    "Many technologies which are used today\n",
    "\n",
    "* Fibre Optics -  Gigabit Passive Optical Networks (GPON)\n",
    "* Copper - Asymmetric digital subscriber line (ADSL)\n",
    "* Coax - Data Over Cable Service Interface Specification (DOCSIS)\n",
    "\n",
    "**Focus on Fibre Optics - GPON**"
   ]
  },
  {
   "cell_type": "markdown",
   "metadata": {
    "hideCode": false,
    "hidePrompt": false,
    "slideshow": {
     "slide_type": "subslide"
    }
   },
   "source": [
    "## So what are the things that need designing and placement?\n",
    "\n",
    "![alt-text](img/IMG_3440.jpg)\n"
   ]
  },
  {
   "cell_type": "markdown",
   "metadata": {
    "hideCode": false,
    "hidePrompt": false,
    "slideshow": {
     "slide_type": "subslide"
    }
   },
   "source": [
    "<table><tr><td><img src='img/IMG_3482.jpg'></td><td><img src='img/IMG_3483.jpg'></td></tr></table>\n"
   ]
  },
  {
   "cell_type": "markdown",
   "metadata": {
    "hideCode": false,
    "hidePrompt": false,
    "slideshow": {
     "slide_type": "subslide"
    }
   },
   "source": [
    "<a href=\"http://www.youtube.com/watch?feature=player_embedded&v=LAZecpnZbz8\n",
    "\" target=\"_blank\"><img src=\"http://img.youtube.com/vi/LAZecpnZbz8/0.jpg\" \n",
    "alt=\"IMAGE ALT TEXT HERE\" width=\"800\" height=\"600\" border=\"10\" /></a>"
   ]
  },
  {
   "cell_type": "markdown",
   "metadata": {
    "hideCode": false,
    "hidePrompt": false,
    "slideshow": {
     "slide_type": "subslide"
    }
   },
   "source": [
    "## Demand\n",
    "\n",
    "* Demand for bandwidth growing\n",
    "* Current technologies do not deliver the bandwidth demanded by customers\n",
    "* expensive to maintain legacy assets\n",
    "* BUT it is expensive to roll out fibre\n",
    "\n",
    "\n"
   ]
  },
  {
   "cell_type": "markdown",
   "metadata": {
    "hideCode": false,
    "hidePrompt": false,
    "slideshow": {
     "slide_type": "subslide"
    }
   },
   "source": [
    "![alt-text](img/figure_6.jpg)\n",
    "Source - https://www.akamai.com/us/en/about/news/press/2017-press/akamai-releases-first-quarter-2017-state-of-the-internet-connectivity-report.jsp"
   ]
  },
  {
   "cell_type": "markdown",
   "metadata": {
    "hideCode": false,
    "hidePrompt": false,
    "slideshow": {
     "slide_type": "subslide"
    }
   },
   "source": [
    "## Technolgies used to create designs\n",
    "\n",
    "* Pencil and paper\n",
    "* AutoCAD\n",
    "* Expert knowledge manual process\n",
    "![alt-text](img/construction_print.jpg)\n"
   ]
  },
  {
   "cell_type": "markdown",
   "metadata": {
    "hideCode": false,
    "hidePrompt": true,
    "slideshow": {
     "slide_type": "slide"
    }
   },
   "source": [
    "### Knowledge Branches\n",
    "\n",
    "   * Domain Knowledge  \n",
    "   * Graphs & Geometry  \n",
    "   * Geographic Information Systms (GIS)  \n",
    "   * Mixed Integer Programs (MIPs)  "
   ]
  },
  {
   "cell_type": "markdown",
   "metadata": {
    "collapsed": true,
    "hideCode": false,
    "hidePrompt": true,
    "slideshow": {
     "slide_type": "subslide"
    }
   },
   "source": [
    "## Domain Knowledge"
   ]
  },
  {
   "cell_type": "code",
   "execution_count": 1,
   "metadata": {
    "hideCode": true,
    "hidePrompt": true,
    "slideshow": {
     "slide_type": "-"
    }
   },
   "outputs": [
    {
     "data": {
      "text/html": [
       "<table>\n",
       "    <tr>\n",
       "       <td>\n",
       "       <ul>\n",
       "       <li><font size=\"6\">How can we create some software to solve the network design problem?</font></li>\n",
       "       <br>\n",
       "       <li><font size=\"6\">Define the structure of the problem</font></li>\n",
       "       <br>\n",
       "       <li><font size=\"6\">Define how network components/items relate and connect to one another</font></li>\n",
       "       </ul>\n",
       "       </td>\n",
       "    <td>\n",
       "       <img src='img/n tier network design.jpg'></td>\n",
       "    </tr>\n",
       "</table>\n",
       "\n",
       "<style>\n",
       "    ul{  display:inline;text-align:left}\n",
       "</style>\n"
      ],
      "text/plain": [
       "<IPython.core.display.HTML object>"
      ]
     },
     "execution_count": 1,
     "metadata": {},
     "output_type": "execute_result"
    }
   ],
   "source": [
    "\n",
    "from IPython.core.display import HTML\n",
    "HTML(\"\"\"<table>\n",
    "    <tr>\n",
    "       <td>\n",
    "       <ul>\n",
    "       <li><font size=\"6\">How can we create some software to solve the network design problem?</font></li>\n",
    "       <br>\n",
    "       <li><font size=\"6\">Define the structure of the problem</font></li>\n",
    "       <br>\n",
    "       <li><font size=\"6\">Define how network components/items relate and connect to one another</font></li>\n",
    "       </ul>\n",
    "       </td>\n",
    "    <td>\n",
    "       <img src='img/n tier network design.jpg'></td>\n",
    "    </tr>\n",
    "</table>\n",
    "\n",
    "<style>\n",
    "    ul{  display:inline;text-align:left}\n",
    "</style>\n",
    "\"\"\")\n",
    "\n"
   ]
  },
  {
   "cell_type": "code",
   "execution_count": 2,
   "metadata": {
    "collapsed": true,
    "hideCode": false,
    "hidePrompt": true,
    "slideshow": {
     "slide_type": "subslide"
    }
   },
   "outputs": [],
   "source": [
    "%matplotlib inline\n",
    "import networkx as nx\n",
    "\n",
    "G = nx.Graph()\n",
    "G.add_nodes_from([\n",
    "    (1, {'demand': 3}),(2, {'demand': 1}), (3, {'demand': 0}),\n",
    "    (4, {'demand': 0}), (5, {'demand': 1})\n",
    "])\n",
    "\n",
    "G.add_edges_from([\n",
    "    [1, 2, {'distance': 123}],\n",
    "    [3, 5, {'distance': 456}],\n",
    "    [2, 5, {'distance': 789}]\n",
    "])\n"
   ]
  },
  {
   "cell_type": "code",
   "execution_count": 3,
   "metadata": {
    "hideCode": true,
    "hidePrompt": true,
    "slideshow": {
     "slide_type": "-"
    }
   },
   "outputs": [
    {
     "data": {
      "text/plain": [
       "<matplotlib.collections.PathCollection at 0x113693160>"
      ]
     },
     "execution_count": 3,
     "metadata": {},
     "output_type": "execute_result"
    },
    {
     "data": {
      "image/png": "[encoded data removed]",
      "text/plain": [
       "<matplotlib.figure.Figure at 0x111f93eb8>"
      ]
     },
     "metadata": {},
     "output_type": "display_data"
    }
   ],
   "source": [
    "layout = nx.spring_layout(G)\n",
    "s_layout = layout.copy()\n",
    "nx.draw_networkx_labels(G, pos=layout)\n",
    "nx.draw_networkx_nodes(\n",
    "    G,\n",
    "    pos=layout,\n",
    "    nodelist=[n for (n, d) in G.nodes(data=True) if d['demand'] > 0],\n",
    "    node_color='r'\n",
    ")\n",
    "nx.draw_networkx_nodes(\n",
    "    G,\n",
    "    pos=layout,\n",
    "    nodelist=[n for (n, d) in G.nodes(data=True) if d['demand'] == 0],\n",
    "    node_color='b'\n",
    ")\n",
    "nx.draw_networkx_edges(G,pos=layout)\n",
    "nx.draw_networkx_edge_labels(G, pos=layout, edge_labels=dict([((u,v,),d['distance'])\n",
    "             for u,v,d in G.edges(data=True)]))\n",
    "nx.draw_networkx_nodes(G, pos=layout, nodelist=[n for (n, d) in G.nodes(data=True) if d['demand'] > 0], node_color='r')\n",
    "nx.draw_networkx_nodes(G, pos=layout, nodelist=[n for (n, d) in G.nodes(data=True) if d['demand'] == 0], node_color='b')"
   ]
  },
  {
   "cell_type": "code",
   "execution_count": 4,
   "metadata": {
    "slideshow": {
     "slide_type": "subslide"
    }
   },
   "outputs": [
    {
     "data": {
      "image/svg+xml": [
       "<svg xmlns=\"http://www.w3.org/2000/svg\" xmlns:xlink=\"http://www.w3.org/1999/xlink\" width=\"100.0\" height=\"100.0\" viewBox=\"1.26 1.76 6.48 6.48\" preserveAspectRatio=\"xMinYMin meet\"><g transform=\"matrix(1,0,0,-1,0,10.0)\"><g><circle cx=\"3.5\" cy=\"6.0\" r=\"0.19440000000000002\" stroke=\"#555555\" stroke-width=\"0.06480000000000001\" fill=\"#66cc99\" opacity=\"0.6\" /><circle cx=\"5.5\" cy=\"6.0\" r=\"0.19440000000000002\" stroke=\"#555555\" stroke-width=\"0.06480000000000001\" fill=\"#66cc99\" opacity=\"0.6\" /><path fill-rule=\"evenodd\" fill=\"#66cc99\" stroke=\"#555555\" stroke-width=\"0.12960000000000002\" opacity=\"0.6\" d=\"M 7.5,5.0 L 7.485554180016591,4.705948579011318 L 7.442355841209691,4.414729033951616 L 7.370821007196627,4.129145968236614 L 7.271638597533861,3.851949702904732 L 7.145763793045066,3.5858097895220085 L 6.9944088369076365,3.333289300941195 L 6.819031360088212,3.096820147509065 L 6.621320343559645,2.878679656440359 L 6.403179852490939,2.680968639911791 L 6.166710699058809,2.505591163092366 L 5.9141902104779955,2.3542362069549365 L 5.648050297095272,2.228361402466141 L 5.370854031763391,2.1291789928033746 L 5.085270966048389,2.0576441587903096 L 4.794051420988686,2.01444581998341 L 4.500000000000004,2.0 L 4.205948579011324,2.014445819983409 L 3.9147290339516205,2.057644158790308 L 3.6291459682366183,2.1291789928033715 L 3.3519497029047365,2.2283614024661373 L 3.085809789522013,2.3542362069549316 L 2.833289300941199,2.505591163092361 L 2.596820147509068,2.6809686399117854 L 2.3786796564403616,2.878679656440353 L 2.180968639911793,3.0968201475090593 L 2.005591163092367,3.333289300941189 L 1.854236206954937,3.5858097895220027 L 1.7283614024661413,3.8519497029047267 L 1.6291789928033746,4.129145968236609 L 1.5576441587903096,4.414729033951612 L 1.5144458199834094,4.705948579011315 L 1.5,4.999999999999997 L 1.5144458199834094,5.294051420988679 L 1.5576441587903078,5.585270966048382 L 1.6291789928033729,5.870854031763385 L 1.7283614024661391,6.148050297095268 L 1.8542362069549343,6.414190210477992 L 2.0055911630923635,6.666710699058806 L 2.1809686399117885,6.903179852490936 L 2.378679656440357,7.121320343559642 L 2.596820147509062,7.31903136008821 L 2.8332893009411912,7.494408836907634 L 3.085809789522004,7.645763793045063 L 3.3519497029047267,7.771638597533858 L 3.6291459682366076,7.870821007196625 L 3.914729033951609,7.9423558412096895 L 4.205948579011311,7.98555418001659 L 4.499999999999991,8.0 L 4.794051420988672,7.9855541800165915 L 5.085270966048374,7.942355841209693 L 5.3708540317633755,7.87082100719663 L 5.648050297095258,7.771638597533865 L 5.914190210477981,7.645763793045072 L 6.166710699058795,7.494408836907644 L 6.403179852490925,7.31903136008822 L 6.621320343559631,7.121320343559654 L 6.8190313600882,6.9031798524909505 L 6.994408836907626,6.666710699058822 L 7.145763793045056,6.41419021047801 L 7.271638597533852,6.148050297095288 L 7.3708210071966205,5.8708540317634075 L 7.442355841209687,5.585270966048407 L 7.485554180016589,5.294051420988706 L 7.5,5.000000000000025 L 7.5,5.0 z\" /><polyline fill=\"none\" stroke=\"#66cc99\" stroke-width=\"0.12960000000000002\" points=\"3.2,4.0 5.8,4.0\" opacity=\"0.8\" /></g></g></svg>"
      ],
      "text/plain": [
       "<shapely.geometry.collection.GeometryCollection at 0x111fb7da0>"
      ]
     },
     "execution_count": 4,
     "metadata": {},
     "output_type": "execute_result"
    }
   ],
   "source": [
    "from shapely.geometry import Point, LineString, Polygon\n",
    "from shapely.geometry.collection import GeometryCollection\n",
    "\n",
    "pt_1 = Point((3.5,6))\n",
    "pt_2 = Point((5.5,6))\n",
    "circle = Point((4.5, 5)).buffer(3)\n",
    "line = LineString([(3.2, 4), (5.8, 4)])\n",
    "my_collection = GeometryCollection([pt_1, pt_2, circle, line])\n",
    "my_collection"
   ]
  },
  {
   "cell_type": "markdown",
   "metadata": {
    "collapsed": true,
    "slideshow": {
     "slide_type": "subslide"
    }
   },
   "source": [
    "## Now lets combine these concepts with GIS"
   ]
  },
  {
   "cell_type": "code",
   "execution_count": 5,
   "metadata": {
    "hidePrompt": true
   },
   "outputs": [
    {
     "name": "stdout",
     "output_type": "stream",
     "text": [
      "  building                                           geometry  highway  \\\n",
      "0           LINESTRING (-122.0264209 36.9621622, -122.0265...  service   \n",
      "1           LINESTRING (-122.0353757 36.9637905, -122.0349...  service   \n",
      "2           LINESTRING (-122.0370658 36.9625155, -122.0381...  service   \n",
      "3           LINESTRING (-122.0362772 36.9632798, -122.0353...  service   \n",
      "4           LINESTRING (-122.0300962 36.9662833, -122.0301...  service   \n",
      "\n",
      "         id                    name  \n",
      "0  10547675                          \n",
      "1  10547712  Sewage Treatment Plant  \n",
      "2  10547816                          \n",
      "3  10548122              Alley 2590  \n",
      "4  10548596                          \n"
     ]
    },
    {
     "data": {
      "image/png": "[encoded data removed]",
      "text/plain": [
       "<matplotlib.figure.Figure at 0x1152c2dd8>"
      ]
     },
     "metadata": {},
     "output_type": "display_data"
    }
   ],
   "source": [
    "import geopandas as gpd\n",
    "\n",
    "street_df = gpd.read_file('santa_cruz_osm_lines.shp')\n",
    "print(street_df.head())\n",
    "street_df.plot()\n",
    "del(street_df)"
   ]
  },
  {
   "cell_type": "code",
   "execution_count": 1,
   "metadata": {
    "hidePrompt": true,
    "slideshow": {
     "slide_type": "subslide"
    }
   },
   "outputs": [
    {
     "data": {
      "text/plain": [
       "[((-122.0242688, 36.9694787),\n",
       "  (-122.0238184, 36.9695263),\n",
       "  {'Json': '{ \"type\": \"LineString\", \"coordinates\": [ [ -122.0242688, 36.9694787 ], [ -122.0239422, 36.9695112 ], [ -122.0238184, 36.9695263 ] ] }',\n",
       "   'ShpName': 'santa_cruz_osm_lines',\n",
       "   'Wkb': b'\\x00\\x00\\x00\\x00\\x02\\x00\\x00\\x00\\x03\\xc0^\\x81\\x8d\\x9e\\xb9\\x94\\x0b@B|\\x17\\xe0\\xc7U\\x95\\xc0^\\x81\\x88D\\xdd\\x7f\\xa2@B|\\x18\\xf1h\\x8d\\x88\\xc0^\\x81\\x86=\\x9cB\\xc1@B|\\x19p\\x13\\x8eR',\n",
       "   'Wkt': 'LINESTRING (-122.0242688 36.9694787,-122.0239422 36.9695112,-122.0238184 36.9695263)',\n",
       "   'building': None,\n",
       "   'highway': 'service',\n",
       "   'id': 270761355,\n",
       "   'name': None})]"
      ]
     },
     "execution_count": 1,
     "metadata": {},
     "output_type": "execute_result"
    }
   ],
   "source": [
    "%matplotlib inline\n",
    "import networkx as nx\n",
    "road_graph = nx.read_shp('santa_cruz_osm_lines.shp')\n",
    "road_graph.edges(data=True)[:1]"
   ]
  },
  {
   "cell_type": "code",
   "execution_count": 2,
   "metadata": {
    "hidePrompt": true,
    "slideshow": {
     "slide_type": "subslide"
    }
   },
   "outputs": [
    {
     "data": {
      "image/svg+xml": [
       "<svg xmlns=\"http://www.w3.org/2000/svg\" xmlns:xlink=\"http://www.w3.org/1999/xlink\" width=\"100.0\" height=\"100.0\" viewBox=\"-122.029643744 36.962491856 0.008032787999994184 0.008103888000000836\" preserveAspectRatio=\"xMinYMin meet\"><g transform=\"matrix(1,0,0,-1,0,73.9330876)\"><g><circle cx=\"-122.0239291\" cy=\"36.962891\" r=\"0.00024311664000002507\" stroke=\"#555555\" stroke-width=\"8.103888000000836e-05\" fill=\"#66cc99\" opacity=\"0.6\" /><circle cx=\"-122.0253258\" cy=\"36.964133\" r=\"0.00024311664000002507\" stroke=\"#555555\" stroke-width=\"8.103888000000836e-05\" fill=\"#66cc99\" opacity=\"0.6\" /><circle cx=\"-122.0258404\" cy=\"36.9645981\" r=\"0.00024311664000002507\" stroke=\"#555555\" stroke-width=\"8.103888000000836e-05\" fill=\"#66cc99\" opacity=\"0.6\" /><circle cx=\"-122.026048\" cy=\"36.9648589\" r=\"0.00024311664000002507\" stroke=\"#555555\" stroke-width=\"8.103888000000836e-05\" fill=\"#66cc99\" opacity=\"0.6\" /><circle cx=\"-122.0260415\" cy=\"36.9649226\" r=\"0.00024311664000002507\" stroke=\"#555555\" stroke-width=\"8.103888000000836e-05\" fill=\"#66cc99\" opacity=\"0.6\" /><circle cx=\"-122.0261546\" cy=\"36.9650229\" r=\"0.00024311664000002507\" stroke=\"#555555\" stroke-width=\"8.103888000000836e-05\" fill=\"#66cc99\" opacity=\"0.6\" /><circle cx=\"-122.026261\" cy=\"36.9650205\" r=\"0.00024311664000002507\" stroke=\"#555555\" stroke-width=\"8.103888000000836e-05\" fill=\"#66cc99\" opacity=\"0.6\" /><circle cx=\"-122.0264958\" cy=\"36.9651655\" r=\"0.00024311664000002507\" stroke=\"#555555\" stroke-width=\"8.103888000000836e-05\" fill=\"#66cc99\" opacity=\"0.6\" /><circle cx=\"-122.0268076\" cy=\"36.9662155\" r=\"0.00024311664000002507\" stroke=\"#555555\" stroke-width=\"8.103888000000836e-05\" fill=\"#66cc99\" opacity=\"0.6\" /><circle cx=\"-122.0273808\" cy=\"36.9661469\" r=\"0.00024311664000002507\" stroke=\"#555555\" stroke-width=\"8.103888000000836e-05\" fill=\"#66cc99\" opacity=\"0.6\" /><circle cx=\"-122.0282763\" cy=\"36.9688266\" r=\"0.00024311664000002507\" stroke=\"#555555\" stroke-width=\"8.103888000000836e-05\" fill=\"#66cc99\" opacity=\"0.6\" /><circle cx=\"-122.0286318\" cy=\"36.9697502\" r=\"0.00024311664000002507\" stroke=\"#555555\" stroke-width=\"8.103888000000836e-05\" fill=\"#66cc99\" opacity=\"0.6\" /><circle cx=\"-122.0274911\" cy=\"36.9698788\" r=\"0.00024311664000002507\" stroke=\"#555555\" stroke-width=\"8.103888000000836e-05\" fill=\"#66cc99\" opacity=\"0.6\" /><circle cx=\"-122.026495\" cy=\"36.970012\" r=\"0.00024311664000002507\" stroke=\"#555555\" stroke-width=\"8.103888000000836e-05\" fill=\"#66cc99\" opacity=\"0.6\" /><circle cx=\"-122.0262685\" cy=\"36.9691177\" r=\"0.00024311664000002507\" stroke=\"#555555\" stroke-width=\"8.103888000000836e-05\" fill=\"#66cc99\" opacity=\"0.6\" /><circle cx=\"-122.0261872\" cy=\"36.9691262\" r=\"0.00024311664000002507\" stroke=\"#555555\" stroke-width=\"8.103888000000836e-05\" fill=\"#66cc99\" opacity=\"0.6\" /><polyline fill=\"none\" stroke=\"#66cc99\" stroke-width=\"0.00016207776000001672\" points=\"-122.0268076,36.9662155 -122.0268962,36.966204 -122.0272892,36.9661579 -122.0273808,36.9661469\" opacity=\"0.8\" /><polyline fill=\"none\" stroke=\"#66cc99\" stroke-width=\"0.00016207776000001672\" points=\"-122.0273808,36.9661469 -122.0274924,36.9661369 -122.0275652,36.96614 -122.0276325,36.9661753 -122.0276779,36.9662827 -122.0277432,36.9665118 -122.0278081,36.9667664 -122.0278214,36.9668147 -122.0279835,36.9674399 -122.0280177,36.9675889 -122.0280925,36.967892 -122.0281048,36.9679484 -122.0281368,36.9680947 -122.0282009,36.9684472 -122.0282566,36.9687544 -122.0282763,36.9688266\" opacity=\"0.8\" /><polyline fill=\"none\" stroke=\"#66cc99\" stroke-width=\"0.00016207776000001672\" points=\"-122.0272512,36.9689357 -122.0273589,36.9689242 -122.0275872,36.9688958 -122.0279118,36.9688582 -122.0282029,36.968832\" opacity=\"0.8\" /><polyline fill=\"none\" stroke=\"#66cc99\" stroke-width=\"0.00016207776000001672\" points=\"-122.0268076,36.9662155 -122.026821,36.9663061 -122.0268923,36.9667752 -122.0269003,36.9668219 -122.0269082,36.9668732 -122.0269147,36.9669122 -122.0271563,36.9683652 -122.0272364,36.9688641 -122.0272512,36.9689357\" opacity=\"0.8\" /><polyline fill=\"none\" stroke=\"#66cc99\" stroke-width=\"0.00016207776000001672\" points=\"-122.0263486,36.9649584 -122.026367,36.9649051 -122.0263563,36.9648505 -122.0263293,36.9648137 -122.026289,36.9647858\" opacity=\"0.8\" /><polyline fill=\"none\" stroke=\"#66cc99\" stroke-width=\"0.00016207776000001672\" points=\"-122.0261872,36.9691262 -122.0261782,36.9690515 -122.0261689,36.9689855 -122.0262409,36.9689778 -122.0263501,36.9689619\" opacity=\"0.8\" /><polyline fill=\"none\" stroke=\"#66cc99\" stroke-width=\"0.00016207776000001672\" points=\"-122.0262685,36.9691177 -122.0261872,36.9691262\" opacity=\"0.8\" /><polyline fill=\"none\" stroke=\"#66cc99\" stroke-width=\"0.00016207776000001672\" points=\"-122.0264958,36.9651655 -122.0265696,36.9652287 -122.026642,36.965302 -122.0266708,36.9653695 -122.0266903,36.9654563 -122.0268076,36.9662155\" opacity=\"0.8\" /><polyline fill=\"none\" stroke=\"#66cc99\" stroke-width=\"0.00016207776000001672\" points=\"-122.022267,36.9701494 -122.0222033,36.9701897\" opacity=\"0.8\" /><polyline fill=\"none\" stroke=\"#66cc99\" stroke-width=\"0.00016207776000001672\" points=\"-122.0219111,36.9699724 -122.0219466,36.9701238 -122.0220133,36.9701692 -122.0220838,36.9701858 -122.0222033,36.9701897\" opacity=\"0.8\" /><polyline fill=\"none\" stroke=\"#66cc99\" stroke-width=\"0.00016207776000001672\" points=\"-122.0228601,36.9689581 -122.0230486,36.9693759 -122.0231056,36.9695453\" opacity=\"0.8\" /><polyline fill=\"none\" stroke=\"#66cc99\" stroke-width=\"0.00016207776000001672\" points=\"-122.0251208,36.962792 -122.0250814,36.9631375 -122.0250602,36.9633226\" opacity=\"0.8\" /><polyline fill=\"none\" stroke=\"#66cc99\" stroke-width=\"0.00016207776000001672\" points=\"-122.0263501,36.9689619 -122.0263639,36.9690343\" opacity=\"0.8\" /><polyline fill=\"none\" stroke=\"#66cc99\" stroke-width=\"0.00016207776000001672\" points=\"-122.0282029,36.968832 -122.028182,36.9687652 -122.0282566,36.9687544 -122.028348,36.9687469 -122.0283833,36.9688176\" opacity=\"0.8\" /><polyline fill=\"none\" stroke=\"#66cc99\" stroke-width=\"0.00016207776000001672\" points=\"-122.026004,36.9649938 -122.0259838,36.9650295 -122.0259355,36.96509 -122.0258618,36.9651821\" opacity=\"0.8\" /><polyline fill=\"none\" stroke=\"#66cc99\" stroke-width=\"0.00016207776000001672\" points=\"-122.0260415,36.9649226 -122.026004,36.9649938\" opacity=\"0.8\" /><polyline fill=\"none\" stroke=\"#66cc99\" stroke-width=\"0.00016207776000001672\" points=\"-122.0243901,36.9666328 -122.0242828,36.9667116 -122.024024,36.9668785 -122.0237922,36.9670568 -122.0236206,36.9672831 -122.0235433,36.9674682 -122.0235166,36.9675593 -122.0235004,36.9676602 -122.0234832,36.9678454 -122.0235262,36.9680836 -122.0235961,36.9684534 -122.0236034,36.9685106 -122.0236164,36.9685755 -122.0236614,36.9687842 -122.0236688,36.9688229 -122.0237552,36.9692236 -122.0237703,36.9693134\" opacity=\"0.8\" /><polyline fill=\"none\" stroke=\"#66cc99\" stroke-width=\"0.00016207776000001672\" points=\"-122.0258618,36.9651821 -122.0256897,36.9652926 -122.0255017,36.9654245 -122.0253945,36.9654978 -122.0252747,36.9655976 -122.0251701,36.9657176 -122.024977,36.9659319 -122.0246767,36.9663413 -122.0243901,36.9666328\" opacity=\"0.8\" /><polyline fill=\"none\" stroke=\"#66cc99\" stroke-width=\"0.00016207776000001672\" points=\"-122.0261546,36.9650229 -122.0262122,36.9650288 -122.026261,36.9650205\" opacity=\"0.8\" /><polyline fill=\"none\" stroke=\"#66cc99\" stroke-width=\"0.00016207776000001672\" points=\"-122.0260415,36.9649226 -122.0260677,36.9649723 -122.0261167,36.9650094 -122.0261546,36.9650229\" opacity=\"0.8\" /><polyline fill=\"none\" stroke=\"#66cc99\" stroke-width=\"0.00016207776000001672\" points=\"-122.0282763,36.9688266 -122.0283833,36.9688176 -122.0292503,36.968715 -122.0293436,36.9686987\" opacity=\"0.8\" /><polyline fill=\"none\" stroke=\"#66cc99\" stroke-width=\"0.00016207776000001672\" points=\"-122.0253258,36.964133 -122.0252503,36.9640645 -122.0248391,36.9636913 -122.0247997,36.9636555 -122.0244768,36.9633757 -122.0243249,36.9632389 -122.024296,36.9632128 -122.0240707,36.9630047 -122.0240341,36.9629801 -122.0239684,36.9629254 -122.0239423,36.9629042 -122.0239291,36.962891\" opacity=\"0.8\" /><polyline fill=\"none\" stroke=\"#66cc99\" stroke-width=\"0.00016207776000001672\" points=\"-122.0258404,36.9645981 -122.0253258,36.964133\" opacity=\"0.8\" /><polyline fill=\"none\" stroke=\"#66cc99\" stroke-width=\"0.00016207776000001672\" points=\"-122.0262685,36.9691177 -122.0263614,36.9695009 -122.0264775,36.969949 -122.026495,36.970012\" opacity=\"0.8\" /><polyline fill=\"none\" stroke=\"#66cc99\" stroke-width=\"0.00016207776000001672\" points=\"-122.0263639,36.9690343 -122.0263764,36.969106 -122.0262685,36.9691177\" opacity=\"0.8\" /><polyline fill=\"none\" stroke=\"#66cc99\" stroke-width=\"0.00016207776000001672\" points=\"-122.026495,36.970012 -122.0265939,36.9699962 -122.0274152,36.9698885 -122.0274911,36.9698788\" opacity=\"0.8\" /><polyline fill=\"none\" stroke=\"#66cc99\" stroke-width=\"0.00016207776000001672\" points=\"-122.0251197,36.9702371 -122.0252024,36.9702225 -122.0255732,36.9701592 -122.0256983,36.970138 -122.0260412,36.9700857 -122.0263966,36.9700242 -122.026495,36.970012\" opacity=\"0.8\" /><polyline fill=\"none\" stroke=\"#66cc99\" stroke-width=\"0.00016207776000001672\" points=\"-122.0251359,36.9702956 -122.0251197,36.9702371\" opacity=\"0.8\" /><polyline fill=\"none\" stroke=\"#66cc99\" stroke-width=\"0.00016207776000001672\" points=\"-122.0287212,36.9700227 -122.0286565,36.9698173 -122.0286318,36.9697502\" opacity=\"0.8\" /><polyline fill=\"none\" stroke=\"#66cc99\" stroke-width=\"0.00016207776000001672\" points=\"-122.026048,36.9648589 -122.0260415,36.9649226\" opacity=\"0.8\" /><polyline fill=\"none\" stroke=\"#66cc99\" stroke-width=\"0.00016207776000001672\" points=\"-122.0274911,36.9698788 -122.0275789,36.9698737 -122.0286318,36.9697502\" opacity=\"0.8\" /><polyline fill=\"none\" stroke=\"#66cc99\" stroke-width=\"0.00016207776000001672\" points=\"-122.026261,36.9650205 -122.0263573,36.96508 -122.0264958,36.9651655\" opacity=\"0.8\" /><polyline fill=\"none\" stroke=\"#66cc99\" stroke-width=\"0.00016207776000001672\" points=\"-122.026261,36.9650205 -122.0263044,36.965001 -122.0263486,36.9649584\" opacity=\"0.8\" /><polyline fill=\"none\" stroke=\"#66cc99\" stroke-width=\"0.00016207776000001672\" points=\"-122.0258404,36.9645981 -122.0260007,36.9647691 -122.026048,36.9648589\" opacity=\"0.8\" /><polyline fill=\"none\" stroke=\"#66cc99\" stroke-width=\"0.00016207776000001672\" points=\"-122.0251197,36.9702371 -122.0251059,36.9701795 -122.0250109,36.9698024 -122.0249891,36.9697172 -122.0248824,36.969287 -122.024867,36.9692329 -122.0248048,36.9691919\" opacity=\"0.8\" /><polyline fill=\"none\" stroke=\"#66cc99\" stroke-width=\"0.00016207776000001672\" points=\"-122.0286318,36.9697502 -122.0282933,36.9688848 -122.0282763,36.9688266\" opacity=\"0.8\" /><polyline fill=\"none\" stroke=\"#66cc99\" stroke-width=\"0.00016207776000001672\" points=\"-122.0231056,36.9695453 -122.0232752,36.96944 -122.0234722,36.9693591 -122.0236892,36.9693284 -122.0237703,36.9693134\" opacity=\"0.8\" /><polyline fill=\"none\" stroke=\"#66cc99\" stroke-width=\"0.00016207776000001672\" points=\"-122.0261378,36.9647771 -122.0260708,36.9648196 -122.026048,36.9648589\" opacity=\"0.8\" /><polyline fill=\"none\" stroke=\"#66cc99\" stroke-width=\"0.00016207776000001672\" points=\"-122.0250602,36.9633226 -122.0250343,36.9635968 -122.0250523,36.9636876 -122.0250952,36.9637487 -122.0259147,36.9644752 -122.0259616,36.9644977 -122.0261859,36.9646943 -122.026211,36.9647355 -122.026205,36.9647521 -122.0261795,36.9647618 -122.0261378,36.9647771\" opacity=\"0.8\" /><polyline fill=\"none\" stroke=\"#66cc99\" stroke-width=\"0.00016207776000001672\" points=\"-122.0224568,36.9700216 -122.022267,36.9701494\" opacity=\"0.8\" /><polyline fill=\"none\" stroke=\"#66cc99\" stroke-width=\"0.00016207776000001672\" points=\"-122.0224568,36.9700216 -122.0226496,36.9698742 -122.0231056,36.9695453\" opacity=\"0.8\" /><polyline fill=\"none\" stroke=\"#66cc99\" stroke-width=\"0.00016207776000001672\" points=\"-122.0264958,36.9651655 -122.0264087,36.9650414 -122.0263486,36.9649584\" opacity=\"0.8\" /></g></g></svg>"
      ],
      "text/plain": [
       "<shapely.geometry.collection.GeometryCollection at 0x1111f7630>"
      ]
     },
     "execution_count": 2,
     "metadata": {},
     "output_type": "execute_result"
    }
   ],
   "source": [
    "from shapely.wkt import loads\n",
    "from shapely.geometry import Point, LineString, Polygon\n",
    "from shapely.geometry.collection import GeometryCollection\n",
    "\n",
    "connected_graph = list(nx.connected_component_subgraphs(road_graph.to_undirected()))\n",
    "shortest_path_nodes = nx.shortest_path(\n",
    "    connected_graph[6],\n",
    "    connected_graph[6].nodes()[0],\n",
    "    connected_graph[6].nodes()[4]\n",
    "    )\n",
    "\n",
    "points = [Point(c) for c in shortest_path_nodes]\n",
    "lines = [loads(l['Wkt']) for _, _, l in connected_graph[6].edges(data=True)]\n",
    "collection = GeometryCollection(points + lines)\n",
    "collection"
   ]
  },
  {
   "cell_type": "markdown",
   "metadata": {},
   "source": [
    "## MIPS  \n",
    "\n",
    "Paper roll cutting stock problem\n",
    "---\n",
    "Where the problem is defined by an example taken from [wikipedia](http://en.wikipedia.org/wiki/Cutting_stock_problem)\n",
    "\n",
    "\n",
    "$min \\sum\\limits_{i=1}^n c_{i}x_{j} \\\\\n",
    "s.t. \\sum\\limits_{i=1}^n a_{ij}x_{i} >= q_{j} \\quad \\forall j = 1,...,m \\\\\n",
    "x_{i} >= 0, \\; integer$\n",
    "\n",
    "Using libraries the following shows the interaction between\n",
    "* Python\n",
    "* Pulp\n",
    "* Pandas\n",
    "* Matplotlib"
   ]
  },
  {
   "cell_type": "code",
   "execution_count": 3,
   "metadata": {
    "collapsed": true
   },
   "outputs": [],
   "source": [
    "import os\n",
    "from collections import namedtuple\n",
    "from itertools import combinations_with_replacement\n",
    "import pulp\n",
    "import pandas as pd\n",
    "import pandas.core.frame as frame\n",
    "import pandas.core.series as series"
   ]
  },
  {
   "cell_type": "code",
   "execution_count": 45,
   "metadata": {
    "hideCode": false,
    "hidePrompt": true,
    "slideshow": {
     "slide_type": "slide"
    }
   },
   "outputs": [],
   "source": [
    "SOLVER = pulp.solvers.GLPK()\n",
    "def solve(F):\n",
    "    solver = SOLVER\n",
    "    result = solver.solve(F.model)\n",
    "    if pulp.LpStatus[result] == 'Optimal':\n",
    "        return F.model.variablesDict"
   ]
  },
  {
   "cell_type": "code",
   "execution_count": 77,
   "metadata": {
    "hideCode": false,
    "hidePrompt": true,
    "slideshow": {
     "slide_type": "skip"
    }
   },
   "outputs": [],
   "source": [
    "def recover_solution(F, output_dir):\n",
    "    '''\n",
    "    TODO\n",
    "    '''\n",
    "    epsilon = 1.e-6\n",
    "\n",
    "    solution_items = []\n",
    "    values = []\n",
    "\n",
    "    variable_prefix = 'vX_'\n",
    "    \n",
    "    logfile = os.path.join(output_dir, 'solution_variables.csv')\n",
    "\n",
    "    with open(logfile, mode='w+') as outfile:\n",
    "        outfile.write('Variable,Value')\n",
    "        \n",
    "        ## extract solution variables\n",
    "        solution_variables = {}\n",
    "\n",
    "        for name in F.model.variables():\n",
    "            solution_variables[name] = name.value()\n",
    "\n",
    "        for name in solution_variables.keys():\n",
    "            value = solution_variables[name]\n",
    "            name = str(name)\n",
    "            \n",
    "                \n",
    "            if name[:3] == variable_prefix:\n",
    "                if value <= epsilon: continue\n",
    "                outfile.write('%s,%i' % (name, value))\n",
    "                \n",
    "                index = int(name[len(variable_prefix):])\n",
    "                data_item = index\n",
    "                values.append(value)\n",
    "\n",
    "                solution_items.append(data_item)\n",
    "\n",
    "    return solution_items, values\n"
   ]
  },
  {
   "cell_type": "code",
   "execution_count": 21,
   "metadata": {
    "collapsed": true
   },
   "outputs": [],
   "source": [
    "# create helper functions\n",
    "def make_bin_var(name):\n",
    "    return pulp.LpVariable(name, lowBound=0, upBound=1, cat=\"Integer\")\n",
    "\n",
    "def make_cont_var(name):\n",
    "    return pulp.LpVariable(name, lowBound=0, upBound=1)\n",
    "\n",
    "def make_bin_non_zero(name):\n",
    "    return pulp.LpVariable(name, lowBound=-1e30, cat=\"Integer\")\n",
    "\n",
    "def make_cont_var_pos(name):\n",
    "    return pulp.LpVariable(name, lowBound=0)\n",
    "\n",
    "def make_cont_int_pos(name):\n",
    "    return pulp.LpVariable(name, lowBound=0, cat=\"Integer\")"
   ]
  },
  {
   "cell_type": "code",
   "execution_count": 22,
   "metadata": {
    "collapsed": true
   },
   "outputs": [],
   "source": [
    "class Formulation:\n",
    "    def __init__(self, combos, orders, output_dir):\n",
    "        self.model = pulp.LpProblem(\"model\", pulp.LpMinimize)\n",
    "\n",
    "        self.combos = combos\n",
    "        self.sum_wid = combos.sum_wid\n",
    "        self.waste = combos.waste\n",
    "        self.orders = orders\n",
    "        \n",
    "        # logging output file\n",
    "        # TODO: write this out somewhere nice\n",
    "        log_name = os.path.join(output_dir,'debug.csv')\n",
    "        \n",
    "        print(\"creating variables\")\n",
    "        \n",
    "        self.create_variables()\n",
    "        \n",
    "        print(\"Constructing objective\")\n",
    "        self.objective()\n",
    "\n",
    "        print(\"Constructing first constraint\")\n",
    "        self.constraint1()\n",
    "\n",
    "    def create_variables(self):\n",
    "        # initialise variables\n",
    "        self.X = {} #a variable for usage of each combination\n",
    "        \n",
    "        cVariables = 0\n",
    "        for i in self.orders.index:\n",
    "            for j in self.combos.index:\n",
    "                self.X[j] = make_cont_int_pos(\"vX_%d\" % (j))\n",
    "            cVariables += 1\n",
    "\n",
    "    def objective(self):\n",
    "\n",
    "        a_cost = pulp.LpAffineExpression(((self.X[j], self.waste[j])\n",
    "            for j in self.combos.index))\n",
    "        obj = 0\n",
    "        obj += a_cost\n",
    "\n",
    "        self.model += obj\n",
    "\n",
    "    def constraint1(self):\n",
    "        c_01 = 0\n",
    "        for i, (width, rolls) in self.orders.iterrows():\n",
    "            lhs = pulp.LpAffineExpression((self.X[j], list(c).count(width))\n",
    "            for j, c in enumerate(self.combos.combination, 1))\n",
    " \n",
    "            rhs = rolls\n",
    "\n",
    "            self.model += (lhs >= rhs)\n",
    "            c_01 = i\n",
    "            \n",
    "        print(\"Constraints 1: {}\".format(c_01))\n"
   ]
  },
  {
   "cell_type": "code",
   "execution_count": 23,
   "metadata": {},
   "outputs": [
    {
     "data": {
      "image/png": "[encoded data removed]",
      "text/plain": [
       "<matplotlib.figure.Figure at 0x113739828>"
      ]
     },
     "metadata": {},
     "output_type": "display_data"
    }
   ],
   "source": [
    "import pandas.core.frame as frame\n",
    "\n",
    "base_roll_width = 5600\n",
    "widths = [\n",
    "          0, 1380, 1520, 1560, 1710, 1820, 1880,\n",
    "          1930, 2000, 2050, 2100, 2140, 2150, 2200, ]\n",
    "rolls = [0, 22, 25, 12, 14, 18, 18, 20, 10, 12, 14, 16, 18, 20, ]\n",
    "orders = frame.DataFrame.from_items(([('widths', widths), ('rolls', rolls)]))\n",
    "orders.plot(x='widths', y='rolls', kind='bar');"
   ]
  },
  {
   "cell_type": "code",
   "execution_count": 24,
   "metadata": {
    "collapsed": true
   },
   "outputs": [],
   "source": [
    "from collections import namedtuple\n",
    "from itertools import combinations_with_replacement\n",
    "\n",
    "def find_min_combo(min_width, max_width):\n",
    "    '''\n",
    "    find the combination of the smallest cut that meets the max width\n",
    "    >>> assert find_min_combo(50, 150) == 3\n",
    "    '''\n",
    "    i = 0\n",
    "    total_width = min_width\n",
    "    while total_width <= max_width:\n",
    "        i += 1\n",
    "        total_width += min_width\n",
    "    return i\n",
    "\n",
    "\n",
    "def create_combinations(max_width, widths):\n",
    "    '''\n",
    "    create all the valid ways of cutting given the widths of the roll\n",
    "    '''\n",
    "    max_combo = find_min_combo(min(widths[1:]), max_width)\n",
    "    cut_combinations = []\n",
    "    sum_wid = []\n",
    "    wastage = []\n",
    "\n",
    "    for combination in combinations_with_replacement(widths, max_combo):\n",
    "        total_wid = sum(combination)\n",
    "        if total_wid < max_width:\n",
    "            cut_combinations.append(combination)\n",
    "            sum_wid.append(total_wid)\n",
    "            wastage.append(max_width - total_wid)\n",
    "    \n",
    "    cut_combinations_frame = frame.DataFrame.from_items(([\n",
    "        ('combination', [combo for combo in cut_combinations]),\n",
    "        ('sum_wid', [s_l for s_l in sum_wid]),\n",
    "        ('waste', [waste for waste in wastage]),]))\n",
    "    \n",
    "    return cut_combinations_frame\n",
    "    "
   ]
  },
  {
   "cell_type": "code",
   "execution_count": 25,
   "metadata": {},
   "outputs": [
    {
     "data": {
      "text/html": [
       "<div>\n",
       "<style>\n",
       "    .dataframe thead tr:only-child th {\n",
       "        text-align: right;\n",
       "    }\n",
       "\n",
       "    .dataframe thead th {\n",
       "        text-align: left;\n",
       "    }\n",
       "\n",
       "    .dataframe tbody tr th {\n",
       "        vertical-align: top;\n",
       "    }\n",
       "</style>\n",
       "<table border=\"1\" class=\"dataframe\">\n",
       "  <thead>\n",
       "    <tr style=\"text-align: right;\">\n",
       "      <th></th>\n",
       "      <th>combination</th>\n",
       "      <th>sum_wid</th>\n",
       "      <th>waste</th>\n",
       "    </tr>\n",
       "  </thead>\n",
       "  <tbody>\n",
       "    <tr>\n",
       "      <th>0</th>\n",
       "      <td>(0, 0, 0, 0)</td>\n",
       "      <td>0</td>\n",
       "      <td>5600</td>\n",
       "    </tr>\n",
       "    <tr>\n",
       "      <th>1</th>\n",
       "      <td>(0, 0, 0, 1380)</td>\n",
       "      <td>1380</td>\n",
       "      <td>4220</td>\n",
       "    </tr>\n",
       "    <tr>\n",
       "      <th>2</th>\n",
       "      <td>(0, 0, 0, 1520)</td>\n",
       "      <td>1520</td>\n",
       "      <td>4080</td>\n",
       "    </tr>\n",
       "    <tr>\n",
       "      <th>3</th>\n",
       "      <td>(0, 0, 0, 1560)</td>\n",
       "      <td>1560</td>\n",
       "      <td>4040</td>\n",
       "    </tr>\n",
       "    <tr>\n",
       "      <th>4</th>\n",
       "      <td>(0, 0, 0, 1710)</td>\n",
       "      <td>1710</td>\n",
       "      <td>3890</td>\n",
       "    </tr>\n",
       "    <tr>\n",
       "      <th>5</th>\n",
       "      <td>(0, 0, 0, 1820)</td>\n",
       "      <td>1820</td>\n",
       "      <td>3780</td>\n",
       "    </tr>\n",
       "    <tr>\n",
       "      <th>6</th>\n",
       "      <td>(0, 0, 0, 1880)</td>\n",
       "      <td>1880</td>\n",
       "      <td>3720</td>\n",
       "    </tr>\n",
       "    <tr>\n",
       "      <th>7</th>\n",
       "      <td>(0, 0, 0, 1930)</td>\n",
       "      <td>1930</td>\n",
       "      <td>3670</td>\n",
       "    </tr>\n",
       "    <tr>\n",
       "      <th>8</th>\n",
       "      <td>(0, 0, 0, 2000)</td>\n",
       "      <td>2000</td>\n",
       "      <td>3600</td>\n",
       "    </tr>\n",
       "    <tr>\n",
       "      <th>9</th>\n",
       "      <td>(0, 0, 0, 2050)</td>\n",
       "      <td>2050</td>\n",
       "      <td>3550</td>\n",
       "    </tr>\n",
       "  </tbody>\n",
       "</table>\n",
       "</div>"
      ],
      "text/plain": [
       "       combination  sum_wid  waste\n",
       "0     (0, 0, 0, 0)        0   5600\n",
       "1  (0, 0, 0, 1380)     1380   4220\n",
       "2  (0, 0, 0, 1520)     1520   4080\n",
       "3  (0, 0, 0, 1560)     1560   4040\n",
       "4  (0, 0, 0, 1710)     1710   3890\n",
       "5  (0, 0, 0, 1820)     1820   3780\n",
       "6  (0, 0, 0, 1880)     1880   3720\n",
       "7  (0, 0, 0, 1930)     1930   3670\n",
       "8  (0, 0, 0, 2000)     2000   3600\n",
       "9  (0, 0, 0, 2050)     2050   3550"
      ]
     },
     "execution_count": 25,
     "metadata": {},
     "output_type": "execute_result"
    }
   ],
   "source": [
    "combos = create_combinations(base_roll_width, widths)\n",
    "combos[:10]"
   ]
  },
  {
   "cell_type": "code",
   "execution_count": 26,
   "metadata": {},
   "outputs": [
    {
     "data": {
      "text/plain": [
       "<matplotlib.axes._subplots.AxesSubplot at 0x1134f05f8>"
      ]
     },
     "execution_count": 26,
     "metadata": {},
     "output_type": "execute_result"
    },
    {
     "data": {
      "image/png": "[encoded data removed]",
      "text/plain": [
       "<matplotlib.figure.Figure at 0x1134f12b0>"
      ]
     },
     "metadata": {},
     "output_type": "display_data"
    }
   ],
   "source": [
    "combos.waste.plot()"
   ]
  },
  {
   "cell_type": "code",
   "execution_count": 27,
   "metadata": {},
   "outputs": [
    {
     "name": "stdout",
     "output_type": "stream",
     "text": [
      "creating variables\n",
      "Constructing objective\n",
      "Constructing first constraint\n",
      "Constraints 1: 13\n"
     ]
    }
   ],
   "source": [
    "F = Formulation(combos[1:], orders[1:], '')"
   ]
  },
  {
   "cell_type": "code",
   "execution_count": 81,
   "metadata": {},
   "outputs": [
    {
     "data": {
      "text/html": [
       "<div>\n",
       "<style>\n",
       "    .dataframe thead tr:only-child th {\n",
       "        text-align: right;\n",
       "    }\n",
       "\n",
       "    .dataframe thead th {\n",
       "        text-align: left;\n",
       "    }\n",
       "\n",
       "    .dataframe tbody tr th {\n",
       "        vertical-align: top;\n",
       "    }\n",
       "</style>\n",
       "<table border=\"1\" class=\"dataframe\">\n",
       "  <thead>\n",
       "    <tr style=\"text-align: right;\">\n",
       "      <th></th>\n",
       "      <th>combination</th>\n",
       "      <th>sum_wid</th>\n",
       "      <th>waste</th>\n",
       "      <th>total</th>\n",
       "    </tr>\n",
       "  </thead>\n",
       "  <tbody>\n",
       "    <tr>\n",
       "      <th>180</th>\n",
       "      <td>(0, 1380, 2000, 2200)</td>\n",
       "      <td>5580</td>\n",
       "      <td>20</td>\n",
       "      <td>15</td>\n",
       "    </tr>\n",
       "    <tr>\n",
       "      <th>271</th>\n",
       "      <td>(0, 1560, 1820, 2200)</td>\n",
       "      <td>5580</td>\n",
       "      <td>20</td>\n",
       "      <td>5</td>\n",
       "    </tr>\n",
       "    <tr>\n",
       "      <th>300</th>\n",
       "      <td>(0, 1710, 1880, 2000)</td>\n",
       "      <td>5590</td>\n",
       "      <td>10</td>\n",
       "      <td>1</td>\n",
       "    </tr>\n",
       "    <tr>\n",
       "      <th>278</th>\n",
       "      <td>(0, 1560, 1880, 2150)</td>\n",
       "      <td>5590</td>\n",
       "      <td>10</td>\n",
       "      <td>18</td>\n",
       "    </tr>\n",
       "    <tr>\n",
       "      <th>297</th>\n",
       "      <td>(0, 1710, 1820, 2050)</td>\n",
       "      <td>5580</td>\n",
       "      <td>20</td>\n",
       "      <td>13</td>\n",
       "    </tr>\n",
       "    <tr>\n",
       "      <th>239</th>\n",
       "      <td>(0, 1520, 1930, 2140)</td>\n",
       "      <td>5590</td>\n",
       "      <td>10</td>\n",
       "      <td>25</td>\n",
       "    </tr>\n",
       "    <tr>\n",
       "      <th>185</th>\n",
       "      <td>(0, 1380, 2100, 2100)</td>\n",
       "      <td>5580</td>\n",
       "      <td>20</td>\n",
       "      <td>7</td>\n",
       "    </tr>\n",
       "  </tbody>\n",
       "</table>\n",
       "</div>"
      ],
      "text/plain": [
       "               combination  sum_wid  waste  total\n",
       "180  (0, 1380, 2000, 2200)     5580     20     15\n",
       "271  (0, 1560, 1820, 2200)     5580     20      5\n",
       "300  (0, 1710, 1880, 2000)     5590     10      1\n",
       "278  (0, 1560, 1880, 2150)     5590     10     18\n",
       "297  (0, 1710, 1820, 2050)     5580     20     13\n",
       "239  (0, 1520, 1930, 2140)     5590     10     25\n",
       "185  (0, 1380, 2100, 2100)     5580     20      7"
      ]
     },
     "execution_count": 81,
     "metadata": {},
     "output_type": "execute_result"
    }
   ],
   "source": [
    "solve(F)\n",
    "combo_cols, values = recover_solution(F, '')\n",
    "solution_df = combos.loc[combo_cols]\n",
    "solution_df['total'] = series.Series(values, index=solution_df.index)\n",
    "solution_df"
   ]
  },
  {
   "cell_type": "code",
   "execution_count": 82,
   "metadata": {},
   "outputs": [
    {
     "data": {
      "text/plain": [
       "72.707142857142856"
      ]
     },
     "execution_count": 82,
     "metadata": {},
     "output_type": "execute_result"
    }
   ],
   "source": [
    "# lower bound\n",
    "sum(orders.widths * orders.rolls) / 5600"
   ]
  },
  {
   "cell_type": "code",
   "execution_count": 83,
   "metadata": {},
   "outputs": [
    {
     "data": {
      "text/plain": [
       "0.023384353741496597"
      ]
     },
     "execution_count": 83,
     "metadata": {},
     "output_type": "execute_result"
    }
   ],
   "source": [
    "# % waste\n",
    "solution_df.waste.values.sum() / (solution_df.total.values.sum() * base_roll_width) * 100"
   ]
  },
  {
   "cell_type": "code",
   "execution_count": 84,
   "metadata": {},
   "outputs": [
    {
     "data": {
      "text/plain": [
       "array([15,  5,  1, 18, 13, 25,  7])"
      ]
     },
     "execution_count": 84,
     "metadata": {},
     "output_type": "execute_result"
    }
   ],
   "source": [
    "solution_df.total.values"
   ]
  },
  {
   "cell_type": "code",
   "execution_count": null,
   "metadata": {
    "collapsed": true
   },
   "outputs": [],
   "source": []
  }
 ],
 "metadata": {
  "celltoolbar": "Hide code",
  "hide_code_all_hidden": false,
  "kernelspec": {
   "display_name": "Python 3",
   "language": "python",
   "name": "python3"
  },
  "language_info": {
   "codemirror_mode": {
    "name": "ipython",
    "version": 3
   },
   "file_extension": ".py",
   "mimetype": "text/x-python",
   "name": "python",
   "nbconvert_exporter": "python",
   "pygments_lexer": "ipython3",
   "version": "3.5.3"
  }
 },
 "nbformat": 4,
 "nbformat_minor": 2
}
